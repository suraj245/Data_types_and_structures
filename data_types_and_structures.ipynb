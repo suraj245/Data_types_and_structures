{
  "nbformat": 4,
  "nbformat_minor": 0,
  "metadata": {
    "colab": {
      "provenance": []
    },
    "kernelspec": {
      "name": "python3",
      "display_name": "Python 3"
    },
    "language_info": {
      "name": "python"
    }
  },
  "cells": [
    {
      "cell_type": "markdown",
      "source": [
        "Theory questions.\n",
        "\n",
        "1. What are data structures, and why are they important?\n",
        "Ans:- Data structures are format of storing data in various kinds of data types like, list, tuple, string, set and dictonary. They are important to mainipulate and performing operations.\n",
        "\n",
        "2. Explain the difference between mutable and immutable data types with examples?\n",
        "Ans:- Data types which doesn't support item assignment so that we can't change the value of elements are called immutable data types.\n",
        "Ex:- string\n",
        "\n",
        "Data types which support item assignment for elemnts to change the value are called mutable data types\n",
        "Ex:- int, float, bool.\n",
        "\n",
        "3. What are the main differences between lists and tuples in Python?\n",
        "\n",
        "Ans:- lists are mutable can change the value of elements.\n",
        "Tuples are immutable so can't change the value of elements.\n",
        "\n",
        "4. Describe how dictionaries store data.\n",
        "ANs:- Dictionaries stores data in key value pairs with flower brackets and key of every element will be as index of that value.\n",
        "\n",
        "5. Why might you use a set instead of a list in Python?\n",
        "Ans:- Because set is unordered collections of data so it wont contain duplicates.\n",
        "\n",
        "6. What is a string in Python, and how is it different from a list?\n",
        "Ans:- string is collection of characters and that are immutable where as list is collections of hertoginuos elements with various collections of data and are mutable.\n",
        "\n",
        "7. How do tuples ensure data integrity in Python?\n",
        "Ans:- Tuples in Python ensure data integrity through their immutability. Once a tuple is created, its elements cannot be modified, added, or removed. This characteristic guarantees that the data stored within a tuple remains constant throughout the program's execution.\n",
        "\n",
        "8. What is a hash table, and how does it relate to dictionaries in Python?\n",
        "Ans:- A hash table is a data structure that stores key-value pairs, using a hash function to compute an index for each key, which determines the position in the table where the corresponding value is stored.\n",
        "\n",
        "9. Can lists contain different data types in Python?\n",
        "Ans:- yes.\n",
        "\n",
        "10. P Explain why strings are immutable in Python?\n",
        "Ans:- strings dosen't support item assignment so they are immutable.\n",
        "\n",
        "11. What advantages do dictionaries offer over lists for certain tasks?\n",
        "Ans:-  it is more efficient to use dictionaries for the searching of elements as it can be carried out in a much faster manner. Lists are used when it is important to maintain the order of the elements and dealing with data that may get changed in the future.\n",
        "\n",
        "12. Describe a scenario where using a tuple would be preferable over a list?\n",
        "Ans:- tuple is suitable when you dont want to change the data as it is immutable.\n",
        "\n",
        "13. How do sets handle duplicate values in Python?\n",
        "Ans:- Sets doesn't consider the duplicate values as it contains only unique elemnts.\n",
        "\n",
        "14. How does the “in” keyword work differently for lists and dictionaries?\n",
        "Ans:- he in operation for the dictionary tests on keys. The key of the dictionary is a unique value as well as the set, and the execution time is about the same as for sets. On the other hand, dictionary values can be duplicated like a list.\n",
        "\n",
        "15. Can you modify the elements of a tuple? Explain why or why not?\n",
        "Ans:- No we can't modify the elements of tuple because they are immutable and doesn't support the item assignment.\n",
        "\n",
        "16. What is a nested dictionary, and give an example of its use case?\n",
        "Ans - In Python, a nested dictionary is a dictionary inside a dictionary. It's a collection of dictionaries into one single dictionary\n",
        "\n",
        "Ex:- nested_dict = {\"item1\":{\"name\":suraj,\"age:\"23\"\"},\n",
        "\"item2\":{\"contact\":98989834,\"city\":\"banglore\"}}\n",
        "\n",
        "17. Describe the time complexity of accessing elements in a dictionary.\n",
        "Ans:- Accessing an element in a dictionary using its key typically has a time complexity of O(1) on average.\n",
        "\n",
        "18. In what situations are lists preferred over dictionaries?\n",
        "Ans:- when order matters, or when you need to perform operations like appending, extending, or slicing on a collection of items.\n",
        "\n",
        "19. Why are dictionaries considered unordered, and how does that affect data retrieval?\n",
        "\n",
        "Ans:- A dictionary is termed an unordered collection of objects because dictionaries do not maintain any inherent order of the items based on when they were added\n",
        "\n",
        "20.  Explain the difference between a list and a dictionary in terms of data retrieval.\n",
        "\n",
        "Ans:- In lists data can be retived by index values of elements and in dictionary elements are accessed by keys of elements.\n"
      ],
      "metadata": {
        "id": "B6pfaVsTXsTI"
      }
    },
    {
      "cell_type": "code",
      "source": [
        "#1. Write a code to create a string with your name and print it.\n",
        "\n",
        "name = \"Suraj M\"\n",
        "print(name)"
      ],
      "metadata": {
        "colab": {
          "base_uri": "https://localhost:8080/"
        },
        "id": "9BQNWkuAXoUc",
        "outputId": "681093cb-4275-4fd8-940e-f3bb1eba0b4d"
      },
      "execution_count": 1,
      "outputs": [
        {
          "output_type": "stream",
          "name": "stdout",
          "text": [
            "Suraj M\n"
          ]
        }
      ]
    },
    {
      "cell_type": "code",
      "source": [
        "#2. Write a code to find the length of the string \"Hello World\".\n",
        "\n",
        "find_lenght = \"Hello World\"\n",
        "print(\"The length of given string is\",len(find_lenght))\n"
      ],
      "metadata": {
        "colab": {
          "base_uri": "https://localhost:8080/"
        },
        "id": "qURk2nreQYpI",
        "outputId": "77328baf-b76a-404f-97cc-89931d01f185"
      },
      "execution_count": null,
      "outputs": [
        {
          "output_type": "stream",
          "name": "stdout",
          "text": [
            "The length of given string is 11\n"
          ]
        }
      ]
    },
    {
      "cell_type": "code",
      "source": [
        "#3. Write a code to slice the first 3 characters from the string \"Python Programming\".\n",
        "\n",
        "first_3char = \"Python Programming\"\n",
        "\n",
        "print(\"First 3 characters from the string\", first_3char[0:3])"
      ],
      "metadata": {
        "colab": {
          "base_uri": "https://localhost:8080/"
        },
        "id": "kkntYV05QuCO",
        "outputId": "638de908-5f22-4c88-9daa-ba1be485555c"
      },
      "execution_count": null,
      "outputs": [
        {
          "output_type": "stream",
          "name": "stdout",
          "text": [
            "First 3 characters from the string Pyt\n"
          ]
        }
      ]
    },
    {
      "cell_type": "code",
      "source": [
        "#4. Write a code to convert the string \"hello\" to uppercase.\n",
        "\n",
        "cont = \"hello\"\n",
        "print(cont.upper())"
      ],
      "metadata": {
        "colab": {
          "base_uri": "https://localhost:8080/"
        },
        "id": "b3Y_7oUKRO1x",
        "outputId": "258ac7a6-6542-4f6f-837e-bf584ab66be7"
      },
      "execution_count": null,
      "outputs": [
        {
          "output_type": "stream",
          "name": "stdout",
          "text": [
            "HELLO\n"
          ]
        }
      ]
    },
    {
      "cell_type": "code",
      "source": [
        "#5. Write a code to replace the word \"apple\" with \"orange\" in the string \"I like apple\".\n",
        "\n",
        "rep = \"I like apple\"\n",
        "rep.replace(\"apple\", \"orange\")"
      ],
      "metadata": {
        "colab": {
          "base_uri": "https://localhost:8080/",
          "height": 36
        },
        "id": "JW-I3rApRrHN",
        "outputId": "c3e9f7b2-94ba-49b7-ead2-de6be7585ca9"
      },
      "execution_count": null,
      "outputs": [
        {
          "output_type": "execute_result",
          "data": {
            "text/plain": [
              "'I like orange'"
            ],
            "application/vnd.google.colaboratory.intrinsic+json": {
              "type": "string"
            }
          },
          "metadata": {},
          "execution_count": 15
        }
      ]
    },
    {
      "cell_type": "code",
      "source": [
        "#6. Write a code to create a list with numbers 1 to 5 and print it.\n",
        "A = [1,2,3,4,5,6]\n",
        "\n",
        "for i in A:\n",
        "  print(i)"
      ],
      "metadata": {
        "colab": {
          "base_uri": "https://localhost:8080/"
        },
        "id": "1dq4d9uNSRyE",
        "outputId": "01f86589-773d-4527-ff00-8c19f8eccdea"
      },
      "execution_count": null,
      "outputs": [
        {
          "output_type": "stream",
          "name": "stdout",
          "text": [
            "1\n",
            "2\n",
            "3\n",
            "4\n",
            "5\n",
            "6\n"
          ]
        }
      ]
    },
    {
      "cell_type": "code",
      "source": [
        "#7. Write a code to append the number 10 to the list [1, 2, 3, 4].\n",
        "\n",
        "A = [1, 2, 3, 4]\n",
        "\n",
        "A.append(10)\n",
        "print(A)"
      ],
      "metadata": {
        "colab": {
          "base_uri": "https://localhost:8080/"
        },
        "id": "sixFtobfSmAX",
        "outputId": "0e328c6e-1c66-40bf-e25a-95bcaf772231"
      },
      "execution_count": null,
      "outputs": [
        {
          "output_type": "stream",
          "name": "stdout",
          "text": [
            "[1, 2, 3, 4, 10]\n"
          ]
        }
      ]
    },
    {
      "cell_type": "code",
      "source": [
        "#8. Write a code to remove the number 3 from the list [1, 2, 3, 4, 5].\n",
        "\n",
        "list2 = [1, 2, 3, 4, 5]\n",
        "\n",
        "list2.remove(3)\n",
        "\n",
        "print(list2)"
      ],
      "metadata": {
        "colab": {
          "base_uri": "https://localhost:8080/"
        },
        "id": "9QbsOB28UJfw",
        "outputId": "4f99d122-c950-467a-c99f-b3de7a1661d2"
      },
      "execution_count": null,
      "outputs": [
        {
          "output_type": "stream",
          "name": "stdout",
          "text": [
            "[1, 2, 4, 5]\n"
          ]
        }
      ]
    },
    {
      "cell_type": "code",
      "source": [
        "#9. Write a code to access the second element in the list ['a', 'b', 'c', 'd'].\n",
        "\n",
        "A = ['a', 'b', 'c', 'd']\n",
        "A[1]"
      ],
      "metadata": {
        "colab": {
          "base_uri": "https://localhost:8080/",
          "height": 36
        },
        "id": "k4YkUxS3Ucd2",
        "outputId": "c7b864e9-abdf-43a5-e164-a45c78c01c8c"
      },
      "execution_count": null,
      "outputs": [
        {
          "output_type": "execute_result",
          "data": {
            "text/plain": [
              "'b'"
            ],
            "application/vnd.google.colaboratory.intrinsic+json": {
              "type": "string"
            }
          },
          "metadata": {},
          "execution_count": 33
        }
      ]
    },
    {
      "cell_type": "code",
      "source": [
        "#10.  Write a code to reverse the list [10, 20, 30, 40, 50].\n",
        "\n",
        "A = [10, 20, 30, 40, 50]\n",
        "\n",
        "A[::-1]"
      ],
      "metadata": {
        "colab": {
          "base_uri": "https://localhost:8080/"
        },
        "id": "BfHhRhVfU0z7",
        "outputId": "8c78285d-2dcb-47d1-d905-7e6dc97ecb4b"
      },
      "execution_count": null,
      "outputs": [
        {
          "output_type": "execute_result",
          "data": {
            "text/plain": [
              "[50, 40, 30, 20, 10]"
            ]
          },
          "metadata": {},
          "execution_count": 35
        }
      ]
    },
    {
      "cell_type": "code",
      "source": [
        "#11  Write a code to create a tuple with the elements 100, 200, 300 and print it.\n",
        "\n",
        "A = (100,200,300)\n",
        "\n",
        "for i in A:\n",
        "    print(i)"
      ],
      "metadata": {
        "colab": {
          "base_uri": "https://localhost:8080/"
        },
        "id": "WE74tCykVEiR",
        "outputId": "baf72151-2a91-4dc7-84ef-5329ea6041e6"
      },
      "execution_count": null,
      "outputs": [
        {
          "output_type": "stream",
          "name": "stdout",
          "text": [
            "100\n",
            "200\n",
            "300\n"
          ]
        }
      ]
    },
    {
      "cell_type": "code",
      "source": [
        "#12. Write a code to access the second-to-last element of the tuple ('red', 'green', 'blue', 'yellow').\n",
        "\n",
        "A = ('red', 'green', 'blue', 'yellow')\n",
        "\n",
        "A[1:]"
      ],
      "metadata": {
        "colab": {
          "base_uri": "https://localhost:8080/"
        },
        "id": "J7gNEyYjVSxY",
        "outputId": "7cdc318a-7aee-4c01-fbb9-c9b8fc13bc85"
      },
      "execution_count": null,
      "outputs": [
        {
          "output_type": "execute_result",
          "data": {
            "text/plain": [
              "('green', 'blue', 'yellow')"
            ]
          },
          "metadata": {},
          "execution_count": 37
        }
      ]
    },
    {
      "cell_type": "code",
      "source": [
        "#13. Write a code to find the minimum number in the tuple (10, 20, 5, 15).\n",
        "\n",
        "A = (10, 20, 5, 15)\n",
        "\n",
        "print(\"The minimum value of given tuple :\", min(A))\n",
        "print(\"The maximum value of given tuple :\", max(A))\n"
      ],
      "metadata": {
        "colab": {
          "base_uri": "https://localhost:8080/"
        },
        "id": "ydZZfZssVf7G",
        "outputId": "44b3c41f-6e1a-4709-e7da-ac0597c2d8e8"
      },
      "execution_count": null,
      "outputs": [
        {
          "output_type": "stream",
          "name": "stdout",
          "text": [
            "The minimum value of given tuple : 5\n",
            "The maximum value of given tuple : 20\n"
          ]
        }
      ]
    },
    {
      "cell_type": "code",
      "source": [
        "#14. Write a code to find the index of the element \"cat\" in the tuple ('dog', 'cat', 'rabbit').\n",
        "\n",
        "animals = ('dog', 'cat', 'rabbit')\n",
        "\n",
        "print(\"The index of cat is :\", animals.index(\"cat\"))"
      ],
      "metadata": {
        "colab": {
          "base_uri": "https://localhost:8080/"
        },
        "id": "uxS7KZo3VrMr",
        "outputId": "09a38427-9086-4582-da6a-28698a6ddf32"
      },
      "execution_count": null,
      "outputs": [
        {
          "output_type": "stream",
          "name": "stdout",
          "text": [
            "The index of cat is : 1\n"
          ]
        }
      ]
    },
    {
      "cell_type": "code",
      "source": [
        "#15. Write a code to create a tuple containing three different fruits and check if \"kiwi\" is in it.\n",
        "\n",
        "fruits = (\"Apple\", \"water melon\", \"kiwi\")\n",
        "\n",
        "if \"kiwi\" in fruits:\n",
        "  print(\"yes fruit kiwi exists..!\")\n",
        "else:\n",
        "  print(\"No kiwi doesn't exists.\")"
      ],
      "metadata": {
        "colab": {
          "base_uri": "https://localhost:8080/"
        },
        "id": "tL-5SVkyXYrB",
        "outputId": "0a144ff2-bd25-46ef-8c5a-05934f4e637c"
      },
      "execution_count": null,
      "outputs": [
        {
          "output_type": "stream",
          "name": "stdout",
          "text": [
            "yes fruit kiwi exists..!\n"
          ]
        }
      ]
    },
    {
      "cell_type": "code",
      "source": [
        "#16.  Write a code to create a set with the elements 'a', 'b', 'c' and print it.\n",
        "\n",
        "A = {\"a\",\"a\",\"b\",\"c\",\"c\"}\n",
        "\n",
        "print(A)"
      ],
      "metadata": {
        "colab": {
          "base_uri": "https://localhost:8080/"
        },
        "id": "GHg-Su9RY0KK",
        "outputId": "01120053-c57b-481c-a72c-c4a54c784058"
      },
      "execution_count": null,
      "outputs": [
        {
          "output_type": "stream",
          "name": "stdout",
          "text": [
            "{'c', 'b', 'a'}\n"
          ]
        }
      ]
    },
    {
      "cell_type": "code",
      "source": [
        "#17. Write a code to clear all elements from the set {1, 2, 3, 4, 5}.\n",
        "\n",
        "A = {1, 2, 3, 4, 5}\n",
        "\n",
        "A.clear()\n",
        "print(A)\n"
      ],
      "metadata": {
        "colab": {
          "base_uri": "https://localhost:8080/"
        },
        "id": "upYZ0NYkfvcb",
        "outputId": "d0575d64-9867-4ab8-ac94-5d798352efbe"
      },
      "execution_count": null,
      "outputs": [
        {
          "output_type": "stream",
          "name": "stdout",
          "text": [
            "set()\n"
          ]
        }
      ]
    },
    {
      "cell_type": "code",
      "source": [
        "#18. Write a code to remove the element 4 from the set {1, 2, 3, 4}.\n",
        "\n",
        "A = {1, 2, 3, 4}\n",
        "\n",
        "A.remove(4)\n",
        "print(A)"
      ],
      "metadata": {
        "colab": {
          "base_uri": "https://localhost:8080/"
        },
        "id": "orWM2Zvxg9U5",
        "outputId": "138de2f7-6ee7-4e77-8cfe-a1e1a456f9e0"
      },
      "execution_count": null,
      "outputs": [
        {
          "output_type": "stream",
          "name": "stdout",
          "text": [
            "{1, 2, 3}\n"
          ]
        }
      ]
    },
    {
      "cell_type": "code",
      "source": [
        "#19. Write a code to find the union of two sets {1, 2, 3} and {3, 4, 5}.\n",
        "\n",
        "A = {1, 2, 3}\n",
        "B = {3, 4, 5}\n",
        "\n",
        "print(\"The union of given sets :\",A|B)"
      ],
      "metadata": {
        "colab": {
          "base_uri": "https://localhost:8080/"
        },
        "id": "TOiD9L-7hLXh",
        "outputId": "cc9b1ab4-cae0-4502-bdf5-58f47e123538"
      },
      "execution_count": null,
      "outputs": [
        {
          "output_type": "stream",
          "name": "stdout",
          "text": [
            "The union of given sets : {1, 2, 3, 4, 5}\n"
          ]
        }
      ]
    },
    {
      "cell_type": "code",
      "source": [
        "#20. Write a code to find the intersection of two sets {1, 2, 3} and {2, 3, 4}.\n",
        "\n",
        "A = {1, 2, 3}\n",
        "B = {2, 3, 4}\n",
        "\n",
        "print(\"The intersection of given sets :\", A & B)"
      ],
      "metadata": {
        "colab": {
          "base_uri": "https://localhost:8080/"
        },
        "id": "j3kDS7VdhaSi",
        "outputId": "9e722a88-39f0-4ffb-d0b4-f38b8912cfb3"
      },
      "execution_count": null,
      "outputs": [
        {
          "output_type": "stream",
          "name": "stdout",
          "text": [
            "The intersection of given sets : {2, 3}\n"
          ]
        }
      ]
    },
    {
      "cell_type": "code",
      "source": [
        "#21. Write a code to create a dictionary with the keys \"name\", \"age\", and \"city\", and print it.\n",
        "\n",
        "name = input(\"Enter name :\")\n",
        "age = int(input(\"Enter age :\"))\n",
        "city = input(\"Enter city :\")\n",
        "details = {\n",
        "    \"name\":name,\n",
        "    \"age\":age,\n",
        "    \"city\":city\n",
        "\n",
        "}\n",
        "\n",
        "print(\"The given details are in dict :\",details)\n"
      ],
      "metadata": {
        "colab": {
          "base_uri": "https://localhost:8080/"
        },
        "id": "nI9aP2APhw5Y",
        "outputId": "d5cfd775-8ad1-4dda-a387-2aef03be2960"
      },
      "execution_count": null,
      "outputs": [
        {
          "output_type": "stream",
          "name": "stdout",
          "text": [
            "Enter name :Suraj M\n",
            "Enter age :23\n",
            "Enter city :Bellary\n",
            "The given details are in dict : {'name': 'Suraj M', 'age': 23, 'city': 'Bellary'}\n"
          ]
        }
      ]
    },
    {
      "cell_type": "code",
      "source": [
        "#22.  Write a code to add a new key-value pair \"country\": \"USA\" to the dictionary {'name': 'John', 'age': 25}.\n",
        "\n",
        "order = {'name': 'John', 'age': 25}\n",
        "order.update({\"country\": \"USA\"})\n",
        "print(order)\n"
      ],
      "metadata": {
        "colab": {
          "base_uri": "https://localhost:8080/"
        },
        "id": "Hv9RrGPKin7Q",
        "outputId": "68db91f1-2539-4ee0-ed4d-5ffedc374a97"
      },
      "execution_count": null,
      "outputs": [
        {
          "output_type": "stream",
          "name": "stdout",
          "text": [
            "{'name': 'John', 'age': 25, 'country': 'USA'}\n"
          ]
        }
      ]
    },
    {
      "cell_type": "code",
      "source": [
        "#23. Write a code to access the value associated with the key \"name\" in the dictionary {'name': 'Alice', 'age': 30}.\n",
        "\n",
        "details = {'name': 'Alice', 'age': 30}\n",
        "\n",
        "details['name']"
      ],
      "metadata": {
        "colab": {
          "base_uri": "https://localhost:8080/",
          "height": 36
        },
        "id": "XGBjAcockdMD",
        "outputId": "581013e8-62ab-49c1-f1de-80f6e51d0d14"
      },
      "execution_count": null,
      "outputs": [
        {
          "output_type": "execute_result",
          "data": {
            "text/plain": [
              "'Alice'"
            ],
            "application/vnd.google.colaboratory.intrinsic+json": {
              "type": "string"
            }
          },
          "metadata": {},
          "execution_count": 5
        }
      ]
    },
    {
      "cell_type": "code",
      "source": [
        "#24. Write a code to remove the key \"age\" from the dictionary {'name': 'Bob', 'age': 22, 'city': 'New York'}.\n",
        "\n",
        "orders = {'name': 'Bob', 'age': 22, 'city': 'New York'}\n",
        "\n",
        "orders.pop('age')\n",
        "orders"
      ],
      "metadata": {
        "colab": {
          "base_uri": "https://localhost:8080/"
        },
        "id": "Z9t1oZ-vY_Lx",
        "outputId": "21bd2d24-1ec9-45ab-f884-1dcfb4bf1b77"
      },
      "execution_count": null,
      "outputs": [
        {
          "output_type": "execute_result",
          "data": {
            "text/plain": [
              "{'name': 'Bob', 'city': 'New York'}"
            ]
          },
          "metadata": {},
          "execution_count": 7
        }
      ]
    },
    {
      "cell_type": "code",
      "source": [
        "#25. Write a code to check if the key \"city\" exists in the dictionary {'name': 'Alice', 'city': 'Paris'}.\n",
        "\n",
        "check_city = {'name': 'Alice', 'city': 'Paris'}\n",
        "\n",
        "find_city = check_city.keys()\n",
        "\n",
        "if 'city' in find_city:\n",
        "  print(\"yes exists..!\")\n",
        "else:\n",
        "  print(\"no\")"
      ],
      "metadata": {
        "colab": {
          "base_uri": "https://localhost:8080/"
        },
        "id": "HXoV5eQKZNL3",
        "outputId": "b5e37ce7-5660-4783-ec74-402e04168732"
      },
      "execution_count": null,
      "outputs": [
        {
          "output_type": "stream",
          "name": "stdout",
          "text": [
            "yes exists..!\n"
          ]
        }
      ]
    },
    {
      "cell_type": "code",
      "source": [
        "#26.  Write a code to create a list, a tuple, and a dictionary, and print them all.\n",
        "\n",
        "details_list = [1,2.2,'suraj',3+4j,\"234\"]\n",
        "\n",
        "details_tuple = (1,2.34,'suraj',2+3j,\"334\")\n",
        "\n",
        "details_disct = {\"name\":\"suraj\",\"age\":23,\"weight\":60.5,\"contact\":233243}\n",
        "\n",
        "print(\"The list :\",details_list)\n",
        "print(\"The Tuple :\",details_tuple)\n",
        "print(\"The Dictionary :\",details_disct)"
      ],
      "metadata": {
        "colab": {
          "base_uri": "https://localhost:8080/"
        },
        "id": "uSLBwocbZ_7U",
        "outputId": "0ce8b043-432b-4a52-bd40-374052d81239"
      },
      "execution_count": null,
      "outputs": [
        {
          "output_type": "stream",
          "name": "stdout",
          "text": [
            "The list : [1, 2.2, 'suraj', (3+4j), '234']\n",
            "The Tuple : (1, 2.34, 'suraj', (2+3j), '334')\n",
            "The Dictionary : {'name': 'suraj', 'age': 23, 'weight': 60.5, 'contact': 233243}\n"
          ]
        }
      ]
    },
    {
      "cell_type": "code",
      "source": [
        "#27. Write a code to create a list of 5 random numbers between 1 and 100, sort it in ascending order, and print the result.(replaced)\n",
        "\n",
        "num_list = [10,87,23,9,54]\n",
        "\n",
        "sorted(num_list)\n"
      ],
      "metadata": {
        "colab": {
          "base_uri": "https://localhost:8080/"
        },
        "id": "nBAOmYLWbRvS",
        "outputId": "456eaa83-4e66-4c94-8c8f-83ef59c35baa"
      },
      "execution_count": null,
      "outputs": [
        {
          "output_type": "execute_result",
          "data": {
            "text/plain": [
              "[9, 10, 23, 54, 87]"
            ]
          },
          "metadata": {},
          "execution_count": 27
        }
      ]
    },
    {
      "cell_type": "code",
      "source": [
        "#28. Write a code to create a list with strings and print the element at the third index.\n",
        "\n",
        "string_list = [\"suraj\",\"Thanvik\",\"sriyansh\",\"Thanish\",\"likith\"]\n",
        "\n",
        "print(string_list[3])"
      ],
      "metadata": {
        "colab": {
          "base_uri": "https://localhost:8080/"
        },
        "id": "LjcMH6NZcbya",
        "outputId": "5eba79e9-3925-4f9a-ad58-cf92467b7f74"
      },
      "execution_count": null,
      "outputs": [
        {
          "output_type": "stream",
          "name": "stdout",
          "text": [
            "Thanish\n"
          ]
        }
      ]
    },
    {
      "cell_type": "code",
      "source": [
        "#29. Write a code to combine two dictionaries into one and print the result\n",
        "\n",
        "A = {\"name\":\"suraj\",\"age\":23,\"city\":\"Bellary\"}\n",
        "B = {\"name\":\"Thanvik\",\"age\":5,\"city\":\"Ballari\"}\n",
        "\n",
        "A.update(B)\n",
        "print(A)"
      ],
      "metadata": {
        "colab": {
          "base_uri": "https://localhost:8080/"
        },
        "id": "GowtHyNdd2p8",
        "outputId": "840dc7b5-9923-4f10-c4eb-8b72ef82c89b"
      },
      "execution_count": 2,
      "outputs": [
        {
          "output_type": "stream",
          "name": "stdout",
          "text": [
            "{'name': 'Thanvik', 'age': 5, 'city': 'Ballari'}\n"
          ]
        }
      ]
    },
    {
      "cell_type": "code",
      "source": [
        "#30. Write a code to convert a list of strings into a set.\n",
        "\n",
        "A = [\"suraj\",\"Thanvik\",\"sriyansh\",\"Tanish\",\"likith\",\"vijay\",\"suraj\",\"Thanvik\"]\n",
        "\n",
        "print(\"The conversion of list of strings into set :\",set(A))\n"
      ],
      "metadata": {
        "colab": {
          "base_uri": "https://localhost:8080/"
        },
        "id": "sstdxNgQeZHL",
        "outputId": "d8703692-b5ba-4bf1-9c17-ad5bd3ee481e"
      },
      "execution_count": null,
      "outputs": [
        {
          "output_type": "stream",
          "name": "stdout",
          "text": [
            "The conversion of list of strings into set : {'suraj', 'sriyansh', 'Tanish', 'vijay', 'Thanvik', 'likith'}\n"
          ]
        }
      ]
    },
    {
      "cell_type": "code",
      "source": [],
      "metadata": {
        "id": "MkdVsaabf6Ap"
      },
      "execution_count": null,
      "outputs": []
    }
  ]
}